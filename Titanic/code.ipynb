{
 "cells": [
  {
   "cell_type": "markdown",
   "id": "c6226903-e45d-4c56-af06-50a2150384ab",
   "metadata": {},
   "source": [
    "# Titanic usando SVM\n",
    "\n",
    "Aplicando o algoritmo SVM para resolver o desafio Titanic."
   ]
  },
  {
   "cell_type": "code",
   "execution_count": 1,
   "id": "92fd99c3-045f-4010-81cf-2532c901eaa7",
   "metadata": {},
   "outputs": [
    {
     "data": {
      "text/html": [
       "<div>\n",
       "<style scoped>\n",
       "    .dataframe tbody tr th:only-of-type {\n",
       "        vertical-align: middle;\n",
       "    }\n",
       "\n",
       "    .dataframe tbody tr th {\n",
       "        vertical-align: top;\n",
       "    }\n",
       "\n",
       "    .dataframe thead th {\n",
       "        text-align: right;\n",
       "    }\n",
       "</style>\n",
       "<table border=\"1\" class=\"dataframe\">\n",
       "  <thead>\n",
       "    <tr style=\"text-align: right;\">\n",
       "      <th></th>\n",
       "      <th>PassengerId</th>\n",
       "      <th>Survived</th>\n",
       "      <th>Pclass</th>\n",
       "      <th>Name</th>\n",
       "      <th>Sex</th>\n",
       "      <th>Age</th>\n",
       "      <th>SibSp</th>\n",
       "      <th>Parch</th>\n",
       "      <th>Ticket</th>\n",
       "      <th>Fare</th>\n",
       "      <th>Cabin</th>\n",
       "      <th>Embarked</th>\n",
       "    </tr>\n",
       "  </thead>\n",
       "  <tbody>\n",
       "    <tr>\n",
       "      <th>0</th>\n",
       "      <td>1</td>\n",
       "      <td>0</td>\n",
       "      <td>3</td>\n",
       "      <td>Braund, Mr. Owen Harris</td>\n",
       "      <td>male</td>\n",
       "      <td>22.0</td>\n",
       "      <td>1</td>\n",
       "      <td>0</td>\n",
       "      <td>A/5 21171</td>\n",
       "      <td>7.2500</td>\n",
       "      <td>NaN</td>\n",
       "      <td>S</td>\n",
       "    </tr>\n",
       "    <tr>\n",
       "      <th>1</th>\n",
       "      <td>2</td>\n",
       "      <td>1</td>\n",
       "      <td>1</td>\n",
       "      <td>Cumings, Mrs. John Bradley (Florence Briggs Th...</td>\n",
       "      <td>female</td>\n",
       "      <td>38.0</td>\n",
       "      <td>1</td>\n",
       "      <td>0</td>\n",
       "      <td>PC 17599</td>\n",
       "      <td>71.2833</td>\n",
       "      <td>C85</td>\n",
       "      <td>C</td>\n",
       "    </tr>\n",
       "    <tr>\n",
       "      <th>2</th>\n",
       "      <td>3</td>\n",
       "      <td>1</td>\n",
       "      <td>3</td>\n",
       "      <td>Heikkinen, Miss. Laina</td>\n",
       "      <td>female</td>\n",
       "      <td>26.0</td>\n",
       "      <td>0</td>\n",
       "      <td>0</td>\n",
       "      <td>STON/O2. 3101282</td>\n",
       "      <td>7.9250</td>\n",
       "      <td>NaN</td>\n",
       "      <td>S</td>\n",
       "    </tr>\n",
       "    <tr>\n",
       "      <th>3</th>\n",
       "      <td>4</td>\n",
       "      <td>1</td>\n",
       "      <td>1</td>\n",
       "      <td>Futrelle, Mrs. Jacques Heath (Lily May Peel)</td>\n",
       "      <td>female</td>\n",
       "      <td>35.0</td>\n",
       "      <td>1</td>\n",
       "      <td>0</td>\n",
       "      <td>113803</td>\n",
       "      <td>53.1000</td>\n",
       "      <td>C123</td>\n",
       "      <td>S</td>\n",
       "    </tr>\n",
       "    <tr>\n",
       "      <th>4</th>\n",
       "      <td>5</td>\n",
       "      <td>0</td>\n",
       "      <td>3</td>\n",
       "      <td>Allen, Mr. William Henry</td>\n",
       "      <td>male</td>\n",
       "      <td>35.0</td>\n",
       "      <td>0</td>\n",
       "      <td>0</td>\n",
       "      <td>373450</td>\n",
       "      <td>8.0500</td>\n",
       "      <td>NaN</td>\n",
       "      <td>S</td>\n",
       "    </tr>\n",
       "  </tbody>\n",
       "</table>\n",
       "</div>"
      ],
      "text/plain": [
       "   PassengerId  Survived  Pclass  \\\n",
       "0            1         0       3   \n",
       "1            2         1       1   \n",
       "2            3         1       3   \n",
       "3            4         1       1   \n",
       "4            5         0       3   \n",
       "\n",
       "                                                Name     Sex   Age  SibSp  \\\n",
       "0                            Braund, Mr. Owen Harris    male  22.0      1   \n",
       "1  Cumings, Mrs. John Bradley (Florence Briggs Th...  female  38.0      1   \n",
       "2                             Heikkinen, Miss. Laina  female  26.0      0   \n",
       "3       Futrelle, Mrs. Jacques Heath (Lily May Peel)  female  35.0      1   \n",
       "4                           Allen, Mr. William Henry    male  35.0      0   \n",
       "\n",
       "   Parch            Ticket     Fare Cabin Embarked  \n",
       "0      0         A/5 21171   7.2500   NaN        S  \n",
       "1      0          PC 17599  71.2833   C85        C  \n",
       "2      0  STON/O2. 3101282   7.9250   NaN        S  \n",
       "3      0            113803  53.1000  C123        S  \n",
       "4      0            373450   8.0500   NaN        S  "
      ]
     },
     "execution_count": 1,
     "metadata": {},
     "output_type": "execute_result"
    }
   ],
   "source": [
    "import pandas as pd\n",
    "import numpy as np\n",
    "import matplotlib.pyplot as plt\n",
    "import seaborn as sns\n",
    "%matplotlib inline\n",
    "\n",
    "df_train = pd.read_csv('train.csv')\n",
    "df_test = pd.read_csv('test.csv')\n",
    "\n",
    "df_train.head()"
   ]
  },
  {
   "cell_type": "markdown",
   "id": "e365ff83-1119-435e-9ab6-d6bd86a32ecc",
   "metadata": {},
   "source": [
    "---------------------------\n",
    "\n",
    "## 1. Tratamento preliminar dos dados\n",
    "\n",
    "Vamos considerar que as variáveis 'Name' e 'Ticket' não influenciam na resposta, portanto essas colunas serão excluídas desde já."
   ]
  },
  {
   "cell_type": "code",
   "execution_count": 2,
   "id": "a47fcda2-2bbf-4e49-8c50-d4d937f4056f",
   "metadata": {},
   "outputs": [],
   "source": [
    "df_train.drop(['Name', 'Ticket'], axis=1, inplace=True)\n",
    "df_test.drop(['Name', 'Ticket'], axis=1, inplace=True)"
   ]
  },
  {
   "cell_type": "markdown",
   "id": "b457c6fb-db06-43d6-8f75-70bf2bf8ed04",
   "metadata": {},
   "source": [
    "As variáveis categóricas 'Sex' e 'Embarked' devem ser transformadas em inteiras:"
   ]
  },
  {
   "cell_type": "code",
   "execution_count": 3,
   "id": "08cb46eb-981b-4865-b127-8a45f555bbb6",
   "metadata": {},
   "outputs": [],
   "source": [
    "sex = pd.get_dummies(df_train['Sex'],drop_first=True) \n",
    "embark = pd.get_dummies(df_train['Embarked'],drop_first=True)\n",
    "df_train.drop(['Sex', 'Embarked'], axis=1, inplace=True)\n",
    "df_train = pd.concat([df_train,sex,embark],axis=1)"
   ]
  },
  {
   "cell_type": "code",
   "execution_count": 4,
   "id": "7311f62d-46b4-4175-b829-f7944458d8ff",
   "metadata": {},
   "outputs": [],
   "source": [
    "sex = pd.get_dummies(df_test['Sex'],drop_first=True)\n",
    "embark = pd.get_dummies(df_test['Embarked'],drop_first=True)\n",
    "df_test.drop(['Sex', 'Embarked'], axis=1, inplace=True)\n",
    "df_test = pd.concat([df_test,sex,embark],axis=1)"
   ]
  },
  {
   "cell_type": "markdown",
   "id": "ec4923c6-f86e-4370-ad76-59f9e08429a4",
   "metadata": {
    "tags": []
   },
   "source": [
    "### 1.1 Lidando com dados ausentes\n",
    "\n",
    "Vamos agorar analisar os dados ausentes."
   ]
  },
  {
   "cell_type": "code",
   "execution_count": 5,
   "id": "a1acb874-080f-474f-bdef-d55721b4e5cf",
   "metadata": {},
   "outputs": [
    {
     "data": {
      "text/plain": [
       "<AxesSubplot:>"
      ]
     },
     "execution_count": 5,
     "metadata": {},
     "output_type": "execute_result"
    },
    {
     "data": {
      "image/png": "[encoded data removed]",
      "text/plain": [
       "<Figure size 432x288 with 1 Axes>"
      ]
     },
     "metadata": {
      "needs_background": "light"
     },
     "output_type": "display_data"
    }
   ],
   "source": [
    "sns.heatmap(df_train.isnull(),yticklabels=False,cbar=False,cmap='viridis')"
   ]
  },
  {
   "cell_type": "markdown",
   "id": "588cfff1-3773-4f93-bf19-6ba9b94a43d2",
   "metadata": {},
   "source": [
    "Existe um grande número de dados de Cabine faltando, por isso essa coluna será ignorada. A idade, no entanto, é importante, e por isso é necessário estabelecer uma estratégia para que os valores sejam preenchidos.\n",
    "\n",
    "Analisando a relação entre SibSp e Age:"
   ]
  },
  {
   "cell_type": "code",
   "execution_count": 15,
   "id": "78caf19c-8557-4917-869c-975f975c922e",
   "metadata": {},
   "outputs": [
    {
     "data": {
      "text/plain": [
       "<AxesSubplot:xlabel='SibSp', ylabel='Age'>"
      ]
     },
     "execution_count": 15,
     "metadata": {},
     "output_type": "execute_result"
    },
    {
     "data": {
      "image/png": "[encoded data removed]",
      "text/plain": [
       "<Figure size 432x288 with 1 Axes>"
      ]
     },
     "metadata": {
      "needs_background": "light"
     },
     "output_type": "display_data"
    }
   ],
   "source": [
    "sns.boxplot(x='SibSp', y = 'Age', data=df_train)"
   ]
  },
  {
   "cell_type": "markdown",
   "id": "929a302b-354a-4997-8b63-8acd9286c73d",
   "metadata": {},
   "source": [
    "Vamos substituir as idades faltantes pela média do SibSp correspondente.\n",
    "\n",
    "Primeiro vamos obter a média para cada valor de 'SibSp':"
   ]
  },
  {
   "cell_type": "code",
   "execution_count": 26,
   "id": "889fe0bf-fe7e-49d7-a6e8-90926a02e6a4",
   "metadata": {},
   "outputs": [
    {
     "name": "stdout",
     "output_type": "stream",
     "text": [
      "31.39755838641189\n",
      "30.089726775956283\n",
      "22.62\n",
      "13.916666666666666\n",
      "7.055555555555555\n",
      "10.2\n",
      "nan\n"
     ]
    },
    {
     "name": "stderr",
     "output_type": "stream",
     "text": [
      "/tmp/ipykernel_128842/3311733361.py:1: FutureWarning: Dropping of nuisance columns in DataFrame reductions (with 'numeric_only=None') is deprecated; in a future version this will raise TypeError.  Select only valid columns before calling the reduction.\n",
      "  print(df_train[df_train['SibSp'] == 0].mean()['Age'])\n",
      "/tmp/ipykernel_128842/3311733361.py:2: FutureWarning: Dropping of nuisance columns in DataFrame reductions (with 'numeric_only=None') is deprecated; in a future version this will raise TypeError.  Select only valid columns before calling the reduction.\n",
      "  print(df_train[df_train['SibSp'] == 1].mean()['Age'])\n",
      "/tmp/ipykernel_128842/3311733361.py:3: FutureWarning: Dropping of nuisance columns in DataFrame reductions (with 'numeric_only=None') is deprecated; in a future version this will raise TypeError.  Select only valid columns before calling the reduction.\n",
      "  print(df_train[df_train['SibSp'] == 2].mean()['Age'])\n",
      "/tmp/ipykernel_128842/3311733361.py:4: FutureWarning: Dropping of nuisance columns in DataFrame reductions (with 'numeric_only=None') is deprecated; in a future version this will raise TypeError.  Select only valid columns before calling the reduction.\n",
      "  print(df_train[df_train['SibSp'] == 3].mean()['Age'])\n"
     ]
    }
   ],
   "source": [
    "print(df_train[df_train['SibSp'] == 0].mean()['Age'])\n",
    "print(df_train[df_train['SibSp'] == 1].mean()['Age'])\n",
    "print(df_train[df_train['SibSp'] == 2].mean()['Age'])\n",
    "print(df_train[df_train['SibSp'] == 3].mean()['Age'])\n",
    "print(df_train[df_train['SibSp'] == 4].mean()['Age'])\n",
    "print(df_train[df_train['SibSp'] == 5].mean()['Age'])\n",
    "print(df_train[df_train['SibSp'] == 8].mean()['Age'])"
   ]
  },
  {
   "cell_type": "markdown",
   "id": "d3fcc701-ea9f-4e9b-afd0-e3e748823286",
   "metadata": {},
   "source": [
    "Agora vamos montar uma função que imputa os valores de idade:"
   ]
  },
  {
   "cell_type": "code",
   "execution_count": 5,
   "id": "89e2cabe-501c-45a6-b321-6f8df24fb0fc",
   "metadata": {},
   "outputs": [],
   "source": [
    "def impute_age(cols):\n",
    "    Age = cols[0]\n",
    "    SibSp = cols[1]\n",
    "    \n",
    "    if pd.isnull(Age):\n",
    "\n",
    "        if SibSp == 0:\n",
    "            return 31\n",
    "\n",
    "        elif SibSp == 1:\n",
    "            return 30\n",
    "        \n",
    "        elif SibSp == 2:\n",
    "            return 23\n",
    "        \n",
    "        elif SibSp == 3:\n",
    "            return 14\n",
    "        \n",
    "        elif SibSp == 4:\n",
    "            return 7\n",
    "\n",
    "        else:\n",
    "            return 10\n",
    "\n",
    "    else:\n",
    "        return Age\n",
    "    \n",
    "\n",
    "df_train['Age'] = df_train[['Age','SibSp']].apply(impute_age,axis=1)\n",
    "df_train.drop('Cabin', axis=1, inplace=True)\n",
    "df_train.dropna(inplace=True)\n",
    "\n",
    "df_test['Age'] = df_test[['Age','SibSp']].apply(impute_age,axis=1)\n",
    "df_test.drop('Cabin', axis=1, inplace=True)\n"
   ]
  },
  {
   "cell_type": "markdown",
   "id": "deb03c68-4fd2-406a-903e-5f90956ead98",
   "metadata": {},
   "source": [
    "-------------------------------------------------\n",
    "## 2. Implementando o modelo\n",
    "\n",
    "Nesse teste será utilizado Support Vector Machines. Os parâmetros ótimos serão determinados por meio de GridSearch.\n"
   ]
  },
  {
   "cell_type": "code",
   "execution_count": 6,
   "id": "833ec5e3-2d6b-4818-85af-b4346dd97dbd",
   "metadata": {},
   "outputs": [],
   "source": [
    "X_train = df_train[['Pclass', 'Age', 'SibSp', 'Parch', 'Fare', 'male', 'Q', 'S']]\n",
    "y_train = df_train['Survived']"
   ]
  },
  {
   "cell_type": "code",
   "execution_count": 7,
   "id": "941d6446-618e-42b8-b660-d7db4f4128e4",
   "metadata": {},
   "outputs": [],
   "source": [
    "from sklearn.svm import SVC\n",
    "from sklearn.model_selection import GridSearchCV\n",
    "from sklearn.preprocessing import StandardScaler"
   ]
  },
  {
   "cell_type": "markdown",
   "id": "ef056645-19bf-46d8-9cd5-16239bc96218",
   "metadata": {},
   "source": [
    "Os parâmetros que serão utilizados serão: \n",
    "\n",
    "kernel = rbf e poly \\\n",
    "C = 1, 10, 100 \\\n",
    "degree = 2, 3, 4 \\"
   ]
  },
  {
   "cell_type": "code",
   "execution_count": 80,
   "id": "0f2dcd62-30b9-47c0-9ae1-102e5cb1edee",
   "metadata": {},
   "outputs": [],
   "source": [
    "params = {'kernel': ('rbf', 'poly'), 'C': [1, 10, 100], 'degree': [2, 3, 4, 5]}"
   ]
  },
  {
   "cell_type": "code",
   "execution_count": 81,
   "id": "2f9bda44-2367-4251-b5a1-6c57a5523a96",
   "metadata": {},
   "outputs": [
    {
     "data": {
      "text/plain": [
       "GridSearchCV(estimator=SVC(),\n",
       "             param_grid={'C': [1, 10, 100], 'degree': [2, 3, 4, 5],\n",
       "                         'kernel': ('rbf', 'poly')})"
      ]
     },
     "execution_count": 81,
     "metadata": {},
     "output_type": "execute_result"
    }
   ],
   "source": [
    "svc = SVC()\n",
    "\n",
    "clf = GridSearchCV(svc, params)\n",
    "clf.fit(X_train, y_train)"
   ]
  },
  {
   "cell_type": "markdown",
   "id": "f03039a9-ae51-4892-a6cc-dbbd4a033e19",
   "metadata": {},
   "source": [
    "Agora vamos construir um DataFrame com os resultados do Grid Search para visualizar melhor:"
   ]
  },
  {
   "cell_type": "code",
   "execution_count": 114,
   "id": "d7b6f79d-3bf1-403c-88fd-81246531eca5",
   "metadata": {},
   "outputs": [
    {
     "data": {
      "text/html": [
       "<div>\n",
       "<style scoped>\n",
       "    .dataframe tbody tr th:only-of-type {\n",
       "        vertical-align: middle;\n",
       "    }\n",
       "\n",
       "    .dataframe tbody tr th {\n",
       "        vertical-align: top;\n",
       "    }\n",
       "\n",
       "    .dataframe thead th {\n",
       "        text-align: right;\n",
       "    }\n",
       "</style>\n",
       "<table border=\"1\" class=\"dataframe\">\n",
       "  <thead>\n",
       "    <tr style=\"text-align: right;\">\n",
       "      <th></th>\n",
       "      <th>param_C</th>\n",
       "      <th>param_kernel</th>\n",
       "    </tr>\n",
       "  </thead>\n",
       "  <tbody>\n",
       "    <tr>\n",
       "      <th>16</th>\n",
       "      <td>100</td>\n",
       "      <td>rbf</td>\n",
       "    </tr>\n",
       "    <tr>\n",
       "      <th>18</th>\n",
       "      <td>100</td>\n",
       "      <td>rbf</td>\n",
       "    </tr>\n",
       "    <tr>\n",
       "      <th>20</th>\n",
       "      <td>100</td>\n",
       "      <td>rbf</td>\n",
       "    </tr>\n",
       "    <tr>\n",
       "      <th>22</th>\n",
       "      <td>100</td>\n",
       "      <td>rbf</td>\n",
       "    </tr>\n",
       "  </tbody>\n",
       "</table>\n",
       "</div>"
      ],
      "text/plain": [
       "   param_C param_kernel\n",
       "16     100          rbf\n",
       "18     100          rbf\n",
       "20     100          rbf\n",
       "22     100          rbf"
      ]
     },
     "execution_count": 114,
     "metadata": {},
     "output_type": "execute_result"
    }
   ],
   "source": [
    "results = pd.DataFrame(clf.cv_results_)\n",
    "results[results['rank_test_score'] == 1][['param_C', 'param_kernel']]"
   ]
  },
  {
   "cell_type": "markdown",
   "id": "7709db07-d893-418f-8b81-715dfad39fac",
   "metadata": {},
   "source": [
    "Nota-se que o melhor kernel é o RBF e o melhor valor de C é 100.\n",
    "\n",
    "Agora vamos prever os dados de treino com o modelo clf que acabamos de criar e depois vamos avalia-lo:"
   ]
  },
  {
   "cell_type": "code",
   "execution_count": 82,
   "id": "7243c647-8148-4fc1-a6c2-b1debb7eb085",
   "metadata": {},
   "outputs": [],
   "source": [
    "pred = clf.predict(X_train)"
   ]
  },
  {
   "cell_type": "code",
   "execution_count": 58,
   "id": "900b44c6-57de-45a4-a3b5-b4ac98ca8d76",
   "metadata": {},
   "outputs": [
    {
     "name": "stdout",
     "output_type": "stream",
     "text": [
      "              precision    recall  f1-score   support\n",
      "\n",
      "           0       0.84      0.85      0.84       549\n",
      "           1       0.75      0.74      0.74       342\n",
      "\n",
      "    accuracy                           0.80       891\n",
      "   macro avg       0.79      0.79      0.79       891\n",
      "weighted avg       0.80      0.80      0.80       891\n",
      "\n"
     ]
    }
   ],
   "source": [
    "from sklearn.metrics import classification_report\n",
    "\n",
    "print(classification_report(y_train, pred))"
   ]
  },
  {
   "cell_type": "markdown",
   "id": "878feb69-d6f1-45e6-a1d6-e3b36169ac90",
   "metadata": {},
   "source": [
    "Por fim, vamos prever os valores finais.\n",
    "\n",
    "Primeiro, vamos conferir o conjunto dos dados de teste:"
   ]
  },
  {
   "cell_type": "code",
   "execution_count": 8,
   "id": "241232bd-50a4-4932-90f6-2a6ae015fe8a",
   "metadata": {},
   "outputs": [
    {
     "data": {
      "text/html": [
       "<div>\n",
       "<style scoped>\n",
       "    .dataframe tbody tr th:only-of-type {\n",
       "        vertical-align: middle;\n",
       "    }\n",
       "\n",
       "    .dataframe tbody tr th {\n",
       "        vertical-align: top;\n",
       "    }\n",
       "\n",
       "    .dataframe thead th {\n",
       "        text-align: right;\n",
       "    }\n",
       "</style>\n",
       "<table border=\"1\" class=\"dataframe\">\n",
       "  <thead>\n",
       "    <tr style=\"text-align: right;\">\n",
       "      <th></th>\n",
       "      <th>PassengerId</th>\n",
       "      <th>Pclass</th>\n",
       "      <th>Age</th>\n",
       "      <th>SibSp</th>\n",
       "      <th>Parch</th>\n",
       "      <th>Fare</th>\n",
       "      <th>male</th>\n",
       "      <th>Q</th>\n",
       "      <th>S</th>\n",
       "    </tr>\n",
       "  </thead>\n",
       "  <tbody>\n",
       "    <tr>\n",
       "      <th>152</th>\n",
       "      <td>1044</td>\n",
       "      <td>3</td>\n",
       "      <td>60.5</td>\n",
       "      <td>0</td>\n",
       "      <td>0</td>\n",
       "      <td>NaN</td>\n",
       "      <td>1</td>\n",
       "      <td>0</td>\n",
       "      <td>1</td>\n",
       "    </tr>\n",
       "  </tbody>\n",
       "</table>\n",
       "</div>"
      ],
      "text/plain": [
       "     PassengerId  Pclass   Age  SibSp  Parch  Fare  male  Q  S\n",
       "152         1044       3  60.5      0      0   NaN     1  0  1"
      ]
     },
     "execution_count": 8,
     "metadata": {},
     "output_type": "execute_result"
    }
   ],
   "source": [
    "df_test[df_test.isna().any(axis=1)]"
   ]
  },
  {
   "cell_type": "markdown",
   "id": "2d042db0-0f74-4476-957c-82441f01190e",
   "metadata": {},
   "source": [
    "Existe um valor faltando em Fare nos dados de teste. O modelo não poderá ser aplicado até que esse dado seja preenchdo. Não é possível excluí-lo porque o número de linhas deve ser total para ser aceito no Kaggle."
   ]
  },
  {
   "cell_type": "code",
   "execution_count": 100,
   "id": "d9fa914f-db58-4efa-9cbd-fc8049c40ed6",
   "metadata": {},
   "outputs": [
    {
     "data": {
      "text/plain": [
       "<AxesSubplot:xlabel='Pclass', ylabel='Fare'>"
      ]
     },
     "execution_count": 100,
     "metadata": {},
     "output_type": "execute_result"
    },
    {
     "data": {
      "image/png": "[encoded data removed]",
      "text/plain": [
       "<Figure size 432x288 with 1 Axes>"
      ]
     },
     "metadata": {
      "needs_background": "light"
     },
     "output_type": "display_data"
    }
   ],
   "source": [
    "sns.scatterplot(x = 'Pclass', y='Fare', data=df_test)"
   ]
  },
  {
   "cell_type": "markdown",
   "id": "f7f90456-2f5e-48bb-bb93-164cccfb25f7",
   "metadata": {},
   "source": [
    "Vamos preencher o dado faltanta utilizando o valor médio de Fare para Pclass=3:"
   ]
  },
  {
   "cell_type": "code",
   "execution_count": 11,
   "id": "4456509e-69cd-4692-8d8a-de3feb8717ee",
   "metadata": {},
   "outputs": [],
   "source": [
    "df_test.fillna(df_test[df_test['Pclass'] == 3].mean()['Fare'], inplace=True)"
   ]
  },
  {
   "cell_type": "markdown",
   "id": "33adbe7f-250e-46fd-b312-afc3ae1f0f1f",
   "metadata": {},
   "source": [
    "Por fim, vamos aplicar o modelo e prever os resultados, exportando para um arquivo CSV:"
   ]
  },
  {
   "cell_type": "code",
   "execution_count": 122,
   "id": "b16e4ca3-21b2-46e8-88df-2158d63b9f26",
   "metadata": {},
   "outputs": [],
   "source": [
    "X_test = df_test[['Pclass', 'Age', 'SibSp', 'Parch', 'Fare', 'male', 'Q', 'S']]\n",
    "\n",
    "pred = clf.predict(X_test)\n",
    "\n",
    "df_test['Survived'] = pred"
   ]
  },
  {
   "cell_type": "code",
   "execution_count": 123,
   "id": "e07f8d90-b7d2-4c31-9eeb-b38b5f4834ee",
   "metadata": {},
   "outputs": [],
   "source": [
    "df_submission = df_test[['PassengerId', 'Survived']]\n",
    "\n",
    "df_submission.to_csv(path_or_buf='submission.csv', index=False)"
   ]
  }
 ],
 "metadata": {
  "kernelspec": {
   "display_name": "Python 3 (ipykernel)",
   "language": "python",
   "name": "python3"
  },
  "language_info": {
   "codemirror_mode": {
    "name": "ipython",
    "version": 3
   },
   "file_extension": ".py",
   "mimetype": "text/x-python",
   "name": "python",
   "nbconvert_exporter": "python",
   "pygments_lexer": "ipython3",
   "version": "3.9.7"
  }
 },
 "nbformat": 4,
 "nbformat_minor": 5
}
